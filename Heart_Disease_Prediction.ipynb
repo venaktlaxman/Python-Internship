{
  "metadata": {
    "kernelspec": {
      "language": "python",
      "display_name": "Python 3",
      "name": "python3"
    },
    "language_info": {
      "name": "python",
      "version": "3.10.13",
      "mimetype": "text/x-python",
      "codemirror_mode": {
        "name": "ipython",
        "version": 3
      },
      "pygments_lexer": "ipython3",
      "nbconvert_exporter": "python",
      "file_extension": ".py"
    },
    "kaggle": {
      "accelerator": "none",
      "dataSources": [
        {
          "sourceId": 1436563,
          "sourceType": "datasetVersion",
          "datasetId": 841679
        }
      ],
      "dockerImageVersionId": 30732,
      "isInternetEnabled": false,
      "language": "python",
      "sourceType": "notebook",
      "isGpuEnabled": false
    },
    "colab": {
      "name": "Heart Disease Prediction",
      "provenance": [],
      "include_colab_link": true
    }
  },
  "nbformat_minor": 0,
  "nbformat": 4,
  "cells": [
    {
      "cell_type": "markdown",
      "metadata": {
        "id": "view-in-github",
        "colab_type": "text"
      },
      "source": [
        "<a href=\"https://colab.research.google.com/github/venaktlaxman/Python-Internship/blob/main/Heart_Disease_Prediction.ipynb\" target=\"_parent\"><img src=\"https://colab.research.google.com/assets/colab-badge.svg\" alt=\"Open In Colab\"/></a>"
      ]
    },
    {
      "source": [
        "\n",
        "# IMPORTANT: RUN THIS CELL IN ORDER TO IMPORT YOUR KAGGLE DATA SOURCES\n",
        "# TO THE CORRECT LOCATION (/kaggle/input) IN YOUR NOTEBOOK,\n",
        "# THEN FEEL FREE TO DELETE THIS CELL.\n",
        "# NOTE: THIS NOTEBOOK ENVIRONMENT DIFFERS FROM KAGGLE'S PYTHON\n",
        "# ENVIRONMENT SO THERE MAY BE MISSING LIBRARIES USED BY YOUR\n",
        "# NOTEBOOK.\n",
        "\n",
        "import os\n",
        "import sys\n",
        "from tempfile import NamedTemporaryFile\n",
        "from urllib.request import urlopen\n",
        "from urllib.parse import unquote, urlparse\n",
        "from urllib.error import HTTPError\n",
        "from zipfile import ZipFile\n",
        "import tarfile\n",
        "import shutil\n",
        "\n",
        "CHUNK_SIZE = 40960\n",
        "DATA_SOURCE_MAPPING = 'heart-disease-prediction:https%3A%2F%2Fstorage.googleapis.com%2Fkaggle-data-sets%2F841679%2F1436563%2Fbundle%2Farchive.zip%3FX-Goog-Algorithm%3DGOOG4-RSA-SHA256%26X-Goog-Credential%3Dgcp-kaggle-com%2540kaggle-161607.iam.gserviceaccount.com%252F20240719%252Fauto%252Fstorage%252Fgoog4_request%26X-Goog-Date%3D20240719T145051Z%26X-Goog-Expires%3D259200%26X-Goog-SignedHeaders%3Dhost%26X-Goog-Signature%3D930e7161e1ca1047e01c785bb01eb66a768ae22ffdd1aaadb0c62b9fe3c7bcbc749c187ee07eb494a91f61874d19c440cbaa75e7045548a50a793b1754275186a9fa3af9cfc620f7f576cec3674e2eba8be73bbf7f8b70c4aa2fc85891a5b3685ae16b92a15432bbb02955826c0ab06b590e091a753f61adbb066a5de1edf03ceef1cfa5c0ca6f3158be3620404559fdda7f892ecf13bc34a97b0a367662a4bb6a83a6dac7b1cf2d257f1f2ab9716a0486f9a9875f0e42dc97ccb178ce1a6144d90e748fbfea2de6e3b82cb7f4cd55d36ab210911764d31689b08ed5a8d5ea71668f36b13e2548102d854aef32e8b0e07da6239a37a3a6518ec1425f67f2a78a'\n",
        "\n",
        "KAGGLE_INPUT_PATH='/kaggle/input'\n",
        "KAGGLE_WORKING_PATH='/kaggle/working'\n",
        "KAGGLE_SYMLINK='kaggle'\n",
        "\n",
        "!umount /kaggle/input/ 2> /dev/null\n",
        "shutil.rmtree('/kaggle/input', ignore_errors=True)\n",
        "os.makedirs(KAGGLE_INPUT_PATH, 0o777, exist_ok=True)\n",
        "os.makedirs(KAGGLE_WORKING_PATH, 0o777, exist_ok=True)\n",
        "\n",
        "try:\n",
        "  os.symlink(KAGGLE_INPUT_PATH, os.path.join(\"..\", 'input'), target_is_directory=True)\n",
        "except FileExistsError:\n",
        "  pass\n",
        "try:\n",
        "  os.symlink(KAGGLE_WORKING_PATH, os.path.join(\"..\", 'working'), target_is_directory=True)\n",
        "except FileExistsError:\n",
        "  pass\n",
        "\n",
        "for data_source_mapping in DATA_SOURCE_MAPPING.split(','):\n",
        "    directory, download_url_encoded = data_source_mapping.split(':')\n",
        "    download_url = unquote(download_url_encoded)\n",
        "    filename = urlparse(download_url).path\n",
        "    destination_path = os.path.join(KAGGLE_INPUT_PATH, directory)\n",
        "    try:\n",
        "        with urlopen(download_url) as fileres, NamedTemporaryFile() as tfile:\n",
        "            total_length = fileres.headers['content-length']\n",
        "            print(f'Downloading {directory}, {total_length} bytes compressed')\n",
        "            dl = 0\n",
        "            data = fileres.read(CHUNK_SIZE)\n",
        "            while len(data) > 0:\n",
        "                dl += len(data)\n",
        "                tfile.write(data)\n",
        "                done = int(50 * dl / int(total_length))\n",
        "                sys.stdout.write(f\"\\r[{'=' * done}{' ' * (50-done)}] {dl} bytes downloaded\")\n",
        "                sys.stdout.flush()\n",
        "                data = fileres.read(CHUNK_SIZE)\n",
        "            if filename.endswith('.zip'):\n",
        "              with ZipFile(tfile) as zfile:\n",
        "                zfile.extractall(destination_path)\n",
        "            else:\n",
        "              with tarfile.open(tfile.name) as tarfile:\n",
        "                tarfile.extractall(destination_path)\n",
        "            print(f'\\nDownloaded and uncompressed: {directory}')\n",
        "    except HTTPError as e:\n",
        "        print(f'Failed to load (likely expired) {download_url} to path {destination_path}')\n",
        "        continue\n",
        "    except OSError as e:\n",
        "        print(f'Failed to load {download_url} to path {destination_path}')\n",
        "        continue\n",
        "\n",
        "print('Data source import complete.')\n"
      ],
      "metadata": {
        "id": "QQgqByXSeYv0",
        "outputId": "3cbcd283-8a91-445d-c3c9-f37550b09368",
        "colab": {
          "base_uri": "https://localhost:8080/"
        }
      },
      "cell_type": "code",
      "outputs": [
        {
          "output_type": "stream",
          "name": "stdout",
          "text": [
            "Downloading heart-disease-prediction, 3491 bytes compressed\n",
            "\r[==================================================] 3491 bytes downloaded\n",
            "Downloaded and uncompressed: heart-disease-prediction\n",
            "Data source import complete.\n"
          ]
        }
      ],
      "execution_count": 1
    },
    {
      "cell_type": "markdown",
      "source": [
        "The Heart Disease Prediction falls under Classification Machine Learning Problem."
      ],
      "metadata": {
        "_uuid": "8f2839f25d086af736a60e9eeb907d3b93b6e0e5",
        "_cell_guid": "b1076dfc-b9ad-4769-8c92-a6c4dae69d19",
        "id": "hyJtz9IbeYv2"
      }
    },
    {
      "cell_type": "code",
      "source": [
        "import numpy as np\n",
        "import pandas as pd\n",
        "import matplotlib.pyplot as plt\n",
        "import seaborn as sns\n",
        "from sklearn.model_selection import train_test_split\n",
        "from sklearn.ensemble import RandomForestRegressor\n",
        "from sklearn import metrics\n",
        "import warnings\n",
        "warnings.filterwarnings(\"ignore\")"
      ],
      "metadata": {
        "execution": {
          "iopub.status.busy": "2024-07-19T14:50:06.450603Z",
          "iopub.execute_input": "2024-07-19T14:50:06.450948Z",
          "iopub.status.idle": "2024-07-19T14:50:09.366456Z",
          "shell.execute_reply.started": "2024-07-19T14:50:06.450921Z",
          "shell.execute_reply": "2024-07-19T14:50:09.365402Z"
        },
        "trusted": true,
        "id": "AhfQC-PYeYv3"
      },
      "execution_count": null,
      "outputs": []
    },
    {
      "cell_type": "code",
      "source": [
        "df = pd.read_csv('/kaggle/input/heart-disease-prediction/Heart_Disease_Prediction.csv')"
      ],
      "metadata": {
        "execution": {
          "iopub.status.busy": "2024-07-19T14:50:09.368947Z",
          "iopub.execute_input": "2024-07-19T14:50:09.369604Z",
          "iopub.status.idle": "2024-07-19T14:50:09.389598Z",
          "shell.execute_reply.started": "2024-07-19T14:50:09.369559Z",
          "shell.execute_reply": "2024-07-19T14:50:09.388469Z"
        },
        "trusted": true,
        "id": "8lRarETNeYv4"
      },
      "execution_count": null,
      "outputs": []
    },
    {
      "cell_type": "code",
      "source": [
        "df"
      ],
      "metadata": {
        "execution": {
          "iopub.status.busy": "2024-07-19T14:50:09.391136Z",
          "iopub.execute_input": "2024-07-19T14:50:09.391617Z",
          "iopub.status.idle": "2024-07-19T14:50:09.427339Z",
          "shell.execute_reply.started": "2024-07-19T14:50:09.391576Z",
          "shell.execute_reply": "2024-07-19T14:50:09.426024Z"
        },
        "trusted": true,
        "id": "G07V4ZbweYv4",
        "outputId": "2abf4671-80cc-4a8c-d685-91b8766ac604"
      },
      "execution_count": null,
      "outputs": [
        {
          "execution_count": 3,
          "output_type": "execute_result",
          "data": {
            "text/plain": "     Age  Sex  Chest pain type   BP  Cholesterol  FBS over 120  EKG results  \\\n0     70    1                4  130          322             0            2   \n1     67    0                3  115          564             0            2   \n2     57    1                2  124          261             0            0   \n3     64    1                4  128          263             0            0   \n4     74    0                2  120          269             0            2   \n..   ...  ...              ...  ...          ...           ...          ...   \n265   52    1                3  172          199             1            0   \n266   44    1                2  120          263             0            0   \n267   56    0                2  140          294             0            2   \n268   57    1                4  140          192             0            0   \n269   67    1                4  160          286             0            2   \n\n     Max HR  Exercise angina  ST depression  Slope of ST  \\\n0       109                0            2.4            2   \n1       160                0            1.6            2   \n2       141                0            0.3            1   \n3       105                1            0.2            2   \n4       121                1            0.2            1   \n..      ...              ...            ...          ...   \n265     162                0            0.5            1   \n266     173                0            0.0            1   \n267     153                0            1.3            2   \n268     148                0            0.4            2   \n269     108                1            1.5            2   \n\n     Number of vessels fluro  Thallium Heart Disease  \n0                          3         3      Presence  \n1                          0         7       Absence  \n2                          0         7      Presence  \n3                          1         7       Absence  \n4                          1         3       Absence  \n..                       ...       ...           ...  \n265                        0         7       Absence  \n266                        0         7       Absence  \n267                        0         3       Absence  \n268                        0         6       Absence  \n269                        3         3      Presence  \n\n[270 rows x 14 columns]",
            "text/html": "<div>\n<style scoped>\n    .dataframe tbody tr th:only-of-type {\n        vertical-align: middle;\n    }\n\n    .dataframe tbody tr th {\n        vertical-align: top;\n    }\n\n    .dataframe thead th {\n        text-align: right;\n    }\n</style>\n<table border=\"1\" class=\"dataframe\">\n  <thead>\n    <tr style=\"text-align: right;\">\n      <th></th>\n      <th>Age</th>\n      <th>Sex</th>\n      <th>Chest pain type</th>\n      <th>BP</th>\n      <th>Cholesterol</th>\n      <th>FBS over 120</th>\n      <th>EKG results</th>\n      <th>Max HR</th>\n      <th>Exercise angina</th>\n      <th>ST depression</th>\n      <th>Slope of ST</th>\n      <th>Number of vessels fluro</th>\n      <th>Thallium</th>\n      <th>Heart Disease</th>\n    </tr>\n  </thead>\n  <tbody>\n    <tr>\n      <th>0</th>\n      <td>70</td>\n      <td>1</td>\n      <td>4</td>\n      <td>130</td>\n      <td>322</td>\n      <td>0</td>\n      <td>2</td>\n      <td>109</td>\n      <td>0</td>\n      <td>2.4</td>\n      <td>2</td>\n      <td>3</td>\n      <td>3</td>\n      <td>Presence</td>\n    </tr>\n    <tr>\n      <th>1</th>\n      <td>67</td>\n      <td>0</td>\n      <td>3</td>\n      <td>115</td>\n      <td>564</td>\n      <td>0</td>\n      <td>2</td>\n      <td>160</td>\n      <td>0</td>\n      <td>1.6</td>\n      <td>2</td>\n      <td>0</td>\n      <td>7</td>\n      <td>Absence</td>\n    </tr>\n    <tr>\n      <th>2</th>\n      <td>57</td>\n      <td>1</td>\n      <td>2</td>\n      <td>124</td>\n      <td>261</td>\n      <td>0</td>\n      <td>0</td>\n      <td>141</td>\n      <td>0</td>\n      <td>0.3</td>\n      <td>1</td>\n      <td>0</td>\n      <td>7</td>\n      <td>Presence</td>\n    </tr>\n    <tr>\n      <th>3</th>\n      <td>64</td>\n      <td>1</td>\n      <td>4</td>\n      <td>128</td>\n      <td>263</td>\n      <td>0</td>\n      <td>0</td>\n      <td>105</td>\n      <td>1</td>\n      <td>0.2</td>\n      <td>2</td>\n      <td>1</td>\n      <td>7</td>\n      <td>Absence</td>\n    </tr>\n    <tr>\n      <th>4</th>\n      <td>74</td>\n      <td>0</td>\n      <td>2</td>\n      <td>120</td>\n      <td>269</td>\n      <td>0</td>\n      <td>2</td>\n      <td>121</td>\n      <td>1</td>\n      <td>0.2</td>\n      <td>1</td>\n      <td>1</td>\n      <td>3</td>\n      <td>Absence</td>\n    </tr>\n    <tr>\n      <th>...</th>\n      <td>...</td>\n      <td>...</td>\n      <td>...</td>\n      <td>...</td>\n      <td>...</td>\n      <td>...</td>\n      <td>...</td>\n      <td>...</td>\n      <td>...</td>\n      <td>...</td>\n      <td>...</td>\n      <td>...</td>\n      <td>...</td>\n      <td>...</td>\n    </tr>\n    <tr>\n      <th>265</th>\n      <td>52</td>\n      <td>1</td>\n      <td>3</td>\n      <td>172</td>\n      <td>199</td>\n      <td>1</td>\n      <td>0</td>\n      <td>162</td>\n      <td>0</td>\n      <td>0.5</td>\n      <td>1</td>\n      <td>0</td>\n      <td>7</td>\n      <td>Absence</td>\n    </tr>\n    <tr>\n      <th>266</th>\n      <td>44</td>\n      <td>1</td>\n      <td>2</td>\n      <td>120</td>\n      <td>263</td>\n      <td>0</td>\n      <td>0</td>\n      <td>173</td>\n      <td>0</td>\n      <td>0.0</td>\n      <td>1</td>\n      <td>0</td>\n      <td>7</td>\n      <td>Absence</td>\n    </tr>\n    <tr>\n      <th>267</th>\n      <td>56</td>\n      <td>0</td>\n      <td>2</td>\n      <td>140</td>\n      <td>294</td>\n      <td>0</td>\n      <td>2</td>\n      <td>153</td>\n      <td>0</td>\n      <td>1.3</td>\n      <td>2</td>\n      <td>0</td>\n      <td>3</td>\n      <td>Absence</td>\n    </tr>\n    <tr>\n      <th>268</th>\n      <td>57</td>\n      <td>1</td>\n      <td>4</td>\n      <td>140</td>\n      <td>192</td>\n      <td>0</td>\n      <td>0</td>\n      <td>148</td>\n      <td>0</td>\n      <td>0.4</td>\n      <td>2</td>\n      <td>0</td>\n      <td>6</td>\n      <td>Absence</td>\n    </tr>\n    <tr>\n      <th>269</th>\n      <td>67</td>\n      <td>1</td>\n      <td>4</td>\n      <td>160</td>\n      <td>286</td>\n      <td>0</td>\n      <td>2</td>\n      <td>108</td>\n      <td>1</td>\n      <td>1.5</td>\n      <td>2</td>\n      <td>3</td>\n      <td>3</td>\n      <td>Presence</td>\n    </tr>\n  </tbody>\n</table>\n<p>270 rows × 14 columns</p>\n</div>"
          },
          "metadata": {}
        }
      ]
    },
    {
      "cell_type": "code",
      "source": [
        "df.shape"
      ],
      "metadata": {
        "execution": {
          "iopub.status.busy": "2024-07-19T14:50:09.430202Z",
          "iopub.execute_input": "2024-07-19T14:50:09.43068Z",
          "iopub.status.idle": "2024-07-19T14:50:09.438848Z",
          "shell.execute_reply.started": "2024-07-19T14:50:09.43064Z",
          "shell.execute_reply": "2024-07-19T14:50:09.437638Z"
        },
        "trusted": true,
        "id": "2kUC6dQ_eYv5",
        "outputId": "de796a86-f9ac-4120-dd10-1b837fb8d47e"
      },
      "execution_count": null,
      "outputs": [
        {
          "execution_count": 4,
          "output_type": "execute_result",
          "data": {
            "text/plain": "(270, 14)"
          },
          "metadata": {}
        }
      ]
    },
    {
      "cell_type": "code",
      "source": [
        "df.head()"
      ],
      "metadata": {
        "execution": {
          "iopub.status.busy": "2024-07-19T14:50:09.440114Z",
          "iopub.execute_input": "2024-07-19T14:50:09.440487Z",
          "iopub.status.idle": "2024-07-19T14:50:09.458066Z",
          "shell.execute_reply.started": "2024-07-19T14:50:09.440455Z",
          "shell.execute_reply": "2024-07-19T14:50:09.456514Z"
        },
        "trusted": true,
        "id": "_UOrTjWNeYv5",
        "outputId": "5f28e080-29ad-4705-e323-ac3f1cd23c4f"
      },
      "execution_count": null,
      "outputs": [
        {
          "execution_count": 5,
          "output_type": "execute_result",
          "data": {
            "text/plain": "   Age  Sex  Chest pain type   BP  Cholesterol  FBS over 120  EKG results  \\\n0   70    1                4  130          322             0            2   \n1   67    0                3  115          564             0            2   \n2   57    1                2  124          261             0            0   \n3   64    1                4  128          263             0            0   \n4   74    0                2  120          269             0            2   \n\n   Max HR  Exercise angina  ST depression  Slope of ST  \\\n0     109                0            2.4            2   \n1     160                0            1.6            2   \n2     141                0            0.3            1   \n3     105                1            0.2            2   \n4     121                1            0.2            1   \n\n   Number of vessels fluro  Thallium Heart Disease  \n0                        3         3      Presence  \n1                        0         7       Absence  \n2                        0         7      Presence  \n3                        1         7       Absence  \n4                        1         3       Absence  ",
            "text/html": "<div>\n<style scoped>\n    .dataframe tbody tr th:only-of-type {\n        vertical-align: middle;\n    }\n\n    .dataframe tbody tr th {\n        vertical-align: top;\n    }\n\n    .dataframe thead th {\n        text-align: right;\n    }\n</style>\n<table border=\"1\" class=\"dataframe\">\n  <thead>\n    <tr style=\"text-align: right;\">\n      <th></th>\n      <th>Age</th>\n      <th>Sex</th>\n      <th>Chest pain type</th>\n      <th>BP</th>\n      <th>Cholesterol</th>\n      <th>FBS over 120</th>\n      <th>EKG results</th>\n      <th>Max HR</th>\n      <th>Exercise angina</th>\n      <th>ST depression</th>\n      <th>Slope of ST</th>\n      <th>Number of vessels fluro</th>\n      <th>Thallium</th>\n      <th>Heart Disease</th>\n    </tr>\n  </thead>\n  <tbody>\n    <tr>\n      <th>0</th>\n      <td>70</td>\n      <td>1</td>\n      <td>4</td>\n      <td>130</td>\n      <td>322</td>\n      <td>0</td>\n      <td>2</td>\n      <td>109</td>\n      <td>0</td>\n      <td>2.4</td>\n      <td>2</td>\n      <td>3</td>\n      <td>3</td>\n      <td>Presence</td>\n    </tr>\n    <tr>\n      <th>1</th>\n      <td>67</td>\n      <td>0</td>\n      <td>3</td>\n      <td>115</td>\n      <td>564</td>\n      <td>0</td>\n      <td>2</td>\n      <td>160</td>\n      <td>0</td>\n      <td>1.6</td>\n      <td>2</td>\n      <td>0</td>\n      <td>7</td>\n      <td>Absence</td>\n    </tr>\n    <tr>\n      <th>2</th>\n      <td>57</td>\n      <td>1</td>\n      <td>2</td>\n      <td>124</td>\n      <td>261</td>\n      <td>0</td>\n      <td>0</td>\n      <td>141</td>\n      <td>0</td>\n      <td>0.3</td>\n      <td>1</td>\n      <td>0</td>\n      <td>7</td>\n      <td>Presence</td>\n    </tr>\n    <tr>\n      <th>3</th>\n      <td>64</td>\n      <td>1</td>\n      <td>4</td>\n      <td>128</td>\n      <td>263</td>\n      <td>0</td>\n      <td>0</td>\n      <td>105</td>\n      <td>1</td>\n      <td>0.2</td>\n      <td>2</td>\n      <td>1</td>\n      <td>7</td>\n      <td>Absence</td>\n    </tr>\n    <tr>\n      <th>4</th>\n      <td>74</td>\n      <td>0</td>\n      <td>2</td>\n      <td>120</td>\n      <td>269</td>\n      <td>0</td>\n      <td>2</td>\n      <td>121</td>\n      <td>1</td>\n      <td>0.2</td>\n      <td>1</td>\n      <td>1</td>\n      <td>3</td>\n      <td>Absence</td>\n    </tr>\n  </tbody>\n</table>\n</div>"
          },
          "metadata": {}
        }
      ]
    },
    {
      "cell_type": "code",
      "source": [
        "df['Heart Disease'] = df['Heart Disease'].replace({'Presence': 1, 'Absence': 0})"
      ],
      "metadata": {
        "execution": {
          "iopub.status.busy": "2024-07-19T14:50:09.459822Z",
          "iopub.execute_input": "2024-07-19T14:50:09.460531Z",
          "iopub.status.idle": "2024-07-19T14:50:09.467829Z",
          "shell.execute_reply.started": "2024-07-19T14:50:09.460485Z",
          "shell.execute_reply": "2024-07-19T14:50:09.466637Z"
        },
        "trusted": true,
        "id": "QGfKv_ipeYv5"
      },
      "execution_count": null,
      "outputs": []
    },
    {
      "cell_type": "code",
      "source": [
        "X = df.drop('Heart Disease', axis=1)\n",
        "Y = df['Heart Disease']"
      ],
      "metadata": {
        "execution": {
          "iopub.status.busy": "2024-07-19T14:50:09.46929Z",
          "iopub.execute_input": "2024-07-19T14:50:09.46971Z",
          "iopub.status.idle": "2024-07-19T14:50:09.480694Z",
          "shell.execute_reply.started": "2024-07-19T14:50:09.469671Z",
          "shell.execute_reply": "2024-07-19T14:50:09.479529Z"
        },
        "trusted": true,
        "id": "neAaRgxFeYv5"
      },
      "execution_count": null,
      "outputs": []
    },
    {
      "cell_type": "code",
      "source": [
        "X"
      ],
      "metadata": {
        "execution": {
          "iopub.status.busy": "2024-07-19T14:50:09.482344Z",
          "iopub.execute_input": "2024-07-19T14:50:09.482785Z",
          "iopub.status.idle": "2024-07-19T14:50:09.505835Z",
          "shell.execute_reply.started": "2024-07-19T14:50:09.482748Z",
          "shell.execute_reply": "2024-07-19T14:50:09.50455Z"
        },
        "trusted": true,
        "id": "aikfv1e9eYv6",
        "outputId": "43f07d3d-2443-478e-d8da-2af2456d7320"
      },
      "execution_count": null,
      "outputs": [
        {
          "execution_count": 8,
          "output_type": "execute_result",
          "data": {
            "text/plain": "     Age  Sex  Chest pain type   BP  Cholesterol  FBS over 120  EKG results  \\\n0     70    1                4  130          322             0            2   \n1     67    0                3  115          564             0            2   \n2     57    1                2  124          261             0            0   \n3     64    1                4  128          263             0            0   \n4     74    0                2  120          269             0            2   \n..   ...  ...              ...  ...          ...           ...          ...   \n265   52    1                3  172          199             1            0   \n266   44    1                2  120          263             0            0   \n267   56    0                2  140          294             0            2   \n268   57    1                4  140          192             0            0   \n269   67    1                4  160          286             0            2   \n\n     Max HR  Exercise angina  ST depression  Slope of ST  \\\n0       109                0            2.4            2   \n1       160                0            1.6            2   \n2       141                0            0.3            1   \n3       105                1            0.2            2   \n4       121                1            0.2            1   \n..      ...              ...            ...          ...   \n265     162                0            0.5            1   \n266     173                0            0.0            1   \n267     153                0            1.3            2   \n268     148                0            0.4            2   \n269     108                1            1.5            2   \n\n     Number of vessels fluro  Thallium  \n0                          3         3  \n1                          0         7  \n2                          0         7  \n3                          1         7  \n4                          1         3  \n..                       ...       ...  \n265                        0         7  \n266                        0         7  \n267                        0         3  \n268                        0         6  \n269                        3         3  \n\n[270 rows x 13 columns]",
            "text/html": "<div>\n<style scoped>\n    .dataframe tbody tr th:only-of-type {\n        vertical-align: middle;\n    }\n\n    .dataframe tbody tr th {\n        vertical-align: top;\n    }\n\n    .dataframe thead th {\n        text-align: right;\n    }\n</style>\n<table border=\"1\" class=\"dataframe\">\n  <thead>\n    <tr style=\"text-align: right;\">\n      <th></th>\n      <th>Age</th>\n      <th>Sex</th>\n      <th>Chest pain type</th>\n      <th>BP</th>\n      <th>Cholesterol</th>\n      <th>FBS over 120</th>\n      <th>EKG results</th>\n      <th>Max HR</th>\n      <th>Exercise angina</th>\n      <th>ST depression</th>\n      <th>Slope of ST</th>\n      <th>Number of vessels fluro</th>\n      <th>Thallium</th>\n    </tr>\n  </thead>\n  <tbody>\n    <tr>\n      <th>0</th>\n      <td>70</td>\n      <td>1</td>\n      <td>4</td>\n      <td>130</td>\n      <td>322</td>\n      <td>0</td>\n      <td>2</td>\n      <td>109</td>\n      <td>0</td>\n      <td>2.4</td>\n      <td>2</td>\n      <td>3</td>\n      <td>3</td>\n    </tr>\n    <tr>\n      <th>1</th>\n      <td>67</td>\n      <td>0</td>\n      <td>3</td>\n      <td>115</td>\n      <td>564</td>\n      <td>0</td>\n      <td>2</td>\n      <td>160</td>\n      <td>0</td>\n      <td>1.6</td>\n      <td>2</td>\n      <td>0</td>\n      <td>7</td>\n    </tr>\n    <tr>\n      <th>2</th>\n      <td>57</td>\n      <td>1</td>\n      <td>2</td>\n      <td>124</td>\n      <td>261</td>\n      <td>0</td>\n      <td>0</td>\n      <td>141</td>\n      <td>0</td>\n      <td>0.3</td>\n      <td>1</td>\n      <td>0</td>\n      <td>7</td>\n    </tr>\n    <tr>\n      <th>3</th>\n      <td>64</td>\n      <td>1</td>\n      <td>4</td>\n      <td>128</td>\n      <td>263</td>\n      <td>0</td>\n      <td>0</td>\n      <td>105</td>\n      <td>1</td>\n      <td>0.2</td>\n      <td>2</td>\n      <td>1</td>\n      <td>7</td>\n    </tr>\n    <tr>\n      <th>4</th>\n      <td>74</td>\n      <td>0</td>\n      <td>2</td>\n      <td>120</td>\n      <td>269</td>\n      <td>0</td>\n      <td>2</td>\n      <td>121</td>\n      <td>1</td>\n      <td>0.2</td>\n      <td>1</td>\n      <td>1</td>\n      <td>3</td>\n    </tr>\n    <tr>\n      <th>...</th>\n      <td>...</td>\n      <td>...</td>\n      <td>...</td>\n      <td>...</td>\n      <td>...</td>\n      <td>...</td>\n      <td>...</td>\n      <td>...</td>\n      <td>...</td>\n      <td>...</td>\n      <td>...</td>\n      <td>...</td>\n      <td>...</td>\n    </tr>\n    <tr>\n      <th>265</th>\n      <td>52</td>\n      <td>1</td>\n      <td>3</td>\n      <td>172</td>\n      <td>199</td>\n      <td>1</td>\n      <td>0</td>\n      <td>162</td>\n      <td>0</td>\n      <td>0.5</td>\n      <td>1</td>\n      <td>0</td>\n      <td>7</td>\n    </tr>\n    <tr>\n      <th>266</th>\n      <td>44</td>\n      <td>1</td>\n      <td>2</td>\n      <td>120</td>\n      <td>263</td>\n      <td>0</td>\n      <td>0</td>\n      <td>173</td>\n      <td>0</td>\n      <td>0.0</td>\n      <td>1</td>\n      <td>0</td>\n      <td>7</td>\n    </tr>\n    <tr>\n      <th>267</th>\n      <td>56</td>\n      <td>0</td>\n      <td>2</td>\n      <td>140</td>\n      <td>294</td>\n      <td>0</td>\n      <td>2</td>\n      <td>153</td>\n      <td>0</td>\n      <td>1.3</td>\n      <td>2</td>\n      <td>0</td>\n      <td>3</td>\n    </tr>\n    <tr>\n      <th>268</th>\n      <td>57</td>\n      <td>1</td>\n      <td>4</td>\n      <td>140</td>\n      <td>192</td>\n      <td>0</td>\n      <td>0</td>\n      <td>148</td>\n      <td>0</td>\n      <td>0.4</td>\n      <td>2</td>\n      <td>0</td>\n      <td>6</td>\n    </tr>\n    <tr>\n      <th>269</th>\n      <td>67</td>\n      <td>1</td>\n      <td>4</td>\n      <td>160</td>\n      <td>286</td>\n      <td>0</td>\n      <td>2</td>\n      <td>108</td>\n      <td>1</td>\n      <td>1.5</td>\n      <td>2</td>\n      <td>3</td>\n      <td>3</td>\n    </tr>\n  </tbody>\n</table>\n<p>270 rows × 13 columns</p>\n</div>"
          },
          "metadata": {}
        }
      ]
    },
    {
      "cell_type": "code",
      "source": [
        "Y"
      ],
      "metadata": {
        "execution": {
          "iopub.status.busy": "2024-07-19T14:50:09.507528Z",
          "iopub.execute_input": "2024-07-19T14:50:09.508538Z",
          "iopub.status.idle": "2024-07-19T14:50:09.518253Z",
          "shell.execute_reply.started": "2024-07-19T14:50:09.508503Z",
          "shell.execute_reply": "2024-07-19T14:50:09.516908Z"
        },
        "trusted": true,
        "id": "I0edPNeoeYv6",
        "outputId": "223574a5-5045-4720-c2a1-aa6ee3ed2930"
      },
      "execution_count": null,
      "outputs": [
        {
          "execution_count": 9,
          "output_type": "execute_result",
          "data": {
            "text/plain": "0      1\n1      0\n2      1\n3      0\n4      0\n      ..\n265    0\n266    0\n267    0\n268    0\n269    1\nName: Heart Disease, Length: 270, dtype: int64"
          },
          "metadata": {}
        }
      ]
    },
    {
      "cell_type": "code",
      "source": [
        "print(X.shape, Y.shape)"
      ],
      "metadata": {
        "execution": {
          "iopub.status.busy": "2024-07-19T14:50:09.522561Z",
          "iopub.execute_input": "2024-07-19T14:50:09.522928Z",
          "iopub.status.idle": "2024-07-19T14:50:09.528922Z",
          "shell.execute_reply.started": "2024-07-19T14:50:09.522898Z",
          "shell.execute_reply": "2024-07-19T14:50:09.527814Z"
        },
        "trusted": true,
        "id": "Ny8FvXqOeYv6",
        "outputId": "6394129c-ea28-4b51-dccc-5fcbc53251e8"
      },
      "execution_count": null,
      "outputs": [
        {
          "name": "stdout",
          "text": "(270, 13) (270,)\n",
          "output_type": "stream"
        }
      ]
    },
    {
      "cell_type": "code",
      "source": [
        "df"
      ],
      "metadata": {
        "execution": {
          "iopub.status.busy": "2024-07-19T14:50:09.530344Z",
          "iopub.execute_input": "2024-07-19T14:50:09.530798Z",
          "iopub.status.idle": "2024-07-19T14:50:09.554707Z",
          "shell.execute_reply.started": "2024-07-19T14:50:09.530768Z",
          "shell.execute_reply": "2024-07-19T14:50:09.553452Z"
        },
        "trusted": true,
        "id": "zmdgV8I-eYv6",
        "outputId": "0a8a2377-d6ca-4378-c072-35ca13821c38"
      },
      "execution_count": null,
      "outputs": [
        {
          "execution_count": 11,
          "output_type": "execute_result",
          "data": {
            "text/plain": "     Age  Sex  Chest pain type   BP  Cholesterol  FBS over 120  EKG results  \\\n0     70    1                4  130          322             0            2   \n1     67    0                3  115          564             0            2   \n2     57    1                2  124          261             0            0   \n3     64    1                4  128          263             0            0   \n4     74    0                2  120          269             0            2   \n..   ...  ...              ...  ...          ...           ...          ...   \n265   52    1                3  172          199             1            0   \n266   44    1                2  120          263             0            0   \n267   56    0                2  140          294             0            2   \n268   57    1                4  140          192             0            0   \n269   67    1                4  160          286             0            2   \n\n     Max HR  Exercise angina  ST depression  Slope of ST  \\\n0       109                0            2.4            2   \n1       160                0            1.6            2   \n2       141                0            0.3            1   \n3       105                1            0.2            2   \n4       121                1            0.2            1   \n..      ...              ...            ...          ...   \n265     162                0            0.5            1   \n266     173                0            0.0            1   \n267     153                0            1.3            2   \n268     148                0            0.4            2   \n269     108                1            1.5            2   \n\n     Number of vessels fluro  Thallium  Heart Disease  \n0                          3         3              1  \n1                          0         7              0  \n2                          0         7              1  \n3                          1         7              0  \n4                          1         3              0  \n..                       ...       ...            ...  \n265                        0         7              0  \n266                        0         7              0  \n267                        0         3              0  \n268                        0         6              0  \n269                        3         3              1  \n\n[270 rows x 14 columns]",
            "text/html": "<div>\n<style scoped>\n    .dataframe tbody tr th:only-of-type {\n        vertical-align: middle;\n    }\n\n    .dataframe tbody tr th {\n        vertical-align: top;\n    }\n\n    .dataframe thead th {\n        text-align: right;\n    }\n</style>\n<table border=\"1\" class=\"dataframe\">\n  <thead>\n    <tr style=\"text-align: right;\">\n      <th></th>\n      <th>Age</th>\n      <th>Sex</th>\n      <th>Chest pain type</th>\n      <th>BP</th>\n      <th>Cholesterol</th>\n      <th>FBS over 120</th>\n      <th>EKG results</th>\n      <th>Max HR</th>\n      <th>Exercise angina</th>\n      <th>ST depression</th>\n      <th>Slope of ST</th>\n      <th>Number of vessels fluro</th>\n      <th>Thallium</th>\n      <th>Heart Disease</th>\n    </tr>\n  </thead>\n  <tbody>\n    <tr>\n      <th>0</th>\n      <td>70</td>\n      <td>1</td>\n      <td>4</td>\n      <td>130</td>\n      <td>322</td>\n      <td>0</td>\n      <td>2</td>\n      <td>109</td>\n      <td>0</td>\n      <td>2.4</td>\n      <td>2</td>\n      <td>3</td>\n      <td>3</td>\n      <td>1</td>\n    </tr>\n    <tr>\n      <th>1</th>\n      <td>67</td>\n      <td>0</td>\n      <td>3</td>\n      <td>115</td>\n      <td>564</td>\n      <td>0</td>\n      <td>2</td>\n      <td>160</td>\n      <td>0</td>\n      <td>1.6</td>\n      <td>2</td>\n      <td>0</td>\n      <td>7</td>\n      <td>0</td>\n    </tr>\n    <tr>\n      <th>2</th>\n      <td>57</td>\n      <td>1</td>\n      <td>2</td>\n      <td>124</td>\n      <td>261</td>\n      <td>0</td>\n      <td>0</td>\n      <td>141</td>\n      <td>0</td>\n      <td>0.3</td>\n      <td>1</td>\n      <td>0</td>\n      <td>7</td>\n      <td>1</td>\n    </tr>\n    <tr>\n      <th>3</th>\n      <td>64</td>\n      <td>1</td>\n      <td>4</td>\n      <td>128</td>\n      <td>263</td>\n      <td>0</td>\n      <td>0</td>\n      <td>105</td>\n      <td>1</td>\n      <td>0.2</td>\n      <td>2</td>\n      <td>1</td>\n      <td>7</td>\n      <td>0</td>\n    </tr>\n    <tr>\n      <th>4</th>\n      <td>74</td>\n      <td>0</td>\n      <td>2</td>\n      <td>120</td>\n      <td>269</td>\n      <td>0</td>\n      <td>2</td>\n      <td>121</td>\n      <td>1</td>\n      <td>0.2</td>\n      <td>1</td>\n      <td>1</td>\n      <td>3</td>\n      <td>0</td>\n    </tr>\n    <tr>\n      <th>...</th>\n      <td>...</td>\n      <td>...</td>\n      <td>...</td>\n      <td>...</td>\n      <td>...</td>\n      <td>...</td>\n      <td>...</td>\n      <td>...</td>\n      <td>...</td>\n      <td>...</td>\n      <td>...</td>\n      <td>...</td>\n      <td>...</td>\n      <td>...</td>\n    </tr>\n    <tr>\n      <th>265</th>\n      <td>52</td>\n      <td>1</td>\n      <td>3</td>\n      <td>172</td>\n      <td>199</td>\n      <td>1</td>\n      <td>0</td>\n      <td>162</td>\n      <td>0</td>\n      <td>0.5</td>\n      <td>1</td>\n      <td>0</td>\n      <td>7</td>\n      <td>0</td>\n    </tr>\n    <tr>\n      <th>266</th>\n      <td>44</td>\n      <td>1</td>\n      <td>2</td>\n      <td>120</td>\n      <td>263</td>\n      <td>0</td>\n      <td>0</td>\n      <td>173</td>\n      <td>0</td>\n      <td>0.0</td>\n      <td>1</td>\n      <td>0</td>\n      <td>7</td>\n      <td>0</td>\n    </tr>\n    <tr>\n      <th>267</th>\n      <td>56</td>\n      <td>0</td>\n      <td>2</td>\n      <td>140</td>\n      <td>294</td>\n      <td>0</td>\n      <td>2</td>\n      <td>153</td>\n      <td>0</td>\n      <td>1.3</td>\n      <td>2</td>\n      <td>0</td>\n      <td>3</td>\n      <td>0</td>\n    </tr>\n    <tr>\n      <th>268</th>\n      <td>57</td>\n      <td>1</td>\n      <td>4</td>\n      <td>140</td>\n      <td>192</td>\n      <td>0</td>\n      <td>0</td>\n      <td>148</td>\n      <td>0</td>\n      <td>0.4</td>\n      <td>2</td>\n      <td>0</td>\n      <td>6</td>\n      <td>0</td>\n    </tr>\n    <tr>\n      <th>269</th>\n      <td>67</td>\n      <td>1</td>\n      <td>4</td>\n      <td>160</td>\n      <td>286</td>\n      <td>0</td>\n      <td>2</td>\n      <td>108</td>\n      <td>1</td>\n      <td>1.5</td>\n      <td>2</td>\n      <td>3</td>\n      <td>3</td>\n      <td>1</td>\n    </tr>\n  </tbody>\n</table>\n<p>270 rows × 14 columns</p>\n</div>"
          },
          "metadata": {}
        }
      ]
    },
    {
      "cell_type": "code",
      "source": [
        "df.groupby('Heart Disease').mean()"
      ],
      "metadata": {
        "execution": {
          "iopub.status.busy": "2024-07-19T14:50:09.556512Z",
          "iopub.execute_input": "2024-07-19T14:50:09.556877Z",
          "iopub.status.idle": "2024-07-19T14:50:09.583436Z",
          "shell.execute_reply.started": "2024-07-19T14:50:09.556846Z",
          "shell.execute_reply": "2024-07-19T14:50:09.5823Z"
        },
        "trusted": true,
        "id": "vutREjsDeYv6",
        "outputId": "87efa9c9-8b9d-4d90-cf00-906182f917f8"
      },
      "execution_count": null,
      "outputs": [
        {
          "execution_count": 12,
          "output_type": "execute_result",
          "data": {
            "text/plain": "                     Age       Sex  Chest pain type          BP  Cholesterol  \\\nHeart Disease                                                                  \n0              52.706667  0.553333         2.820000  128.866667   244.213333   \n1              56.591667  0.833333         3.616667  134.441667   256.466667   \n\n               FBS over 120  EKG results      Max HR  Exercise angina  \\\nHeart Disease                                                           \n0                  0.153333        0.860  158.333333         0.153333   \n1                  0.141667        1.225  138.858333         0.550000   \n\n               ST depression  Slope of ST  Number of vessels fluro  Thallium  \nHeart Disease                                                                 \n0                   0.622667     1.400000                 0.286667  3.786667  \n1                   1.584167     1.816667                 1.150000  5.833333  ",
            "text/html": "<div>\n<style scoped>\n    .dataframe tbody tr th:only-of-type {\n        vertical-align: middle;\n    }\n\n    .dataframe tbody tr th {\n        vertical-align: top;\n    }\n\n    .dataframe thead th {\n        text-align: right;\n    }\n</style>\n<table border=\"1\" class=\"dataframe\">\n  <thead>\n    <tr style=\"text-align: right;\">\n      <th></th>\n      <th>Age</th>\n      <th>Sex</th>\n      <th>Chest pain type</th>\n      <th>BP</th>\n      <th>Cholesterol</th>\n      <th>FBS over 120</th>\n      <th>EKG results</th>\n      <th>Max HR</th>\n      <th>Exercise angina</th>\n      <th>ST depression</th>\n      <th>Slope of ST</th>\n      <th>Number of vessels fluro</th>\n      <th>Thallium</th>\n    </tr>\n    <tr>\n      <th>Heart Disease</th>\n      <th></th>\n      <th></th>\n      <th></th>\n      <th></th>\n      <th></th>\n      <th></th>\n      <th></th>\n      <th></th>\n      <th></th>\n      <th></th>\n      <th></th>\n      <th></th>\n      <th></th>\n    </tr>\n  </thead>\n  <tbody>\n    <tr>\n      <th>0</th>\n      <td>52.706667</td>\n      <td>0.553333</td>\n      <td>2.820000</td>\n      <td>128.866667</td>\n      <td>244.213333</td>\n      <td>0.153333</td>\n      <td>0.860</td>\n      <td>158.333333</td>\n      <td>0.153333</td>\n      <td>0.622667</td>\n      <td>1.400000</td>\n      <td>0.286667</td>\n      <td>3.786667</td>\n    </tr>\n    <tr>\n      <th>1</th>\n      <td>56.591667</td>\n      <td>0.833333</td>\n      <td>3.616667</td>\n      <td>134.441667</td>\n      <td>256.466667</td>\n      <td>0.141667</td>\n      <td>1.225</td>\n      <td>138.858333</td>\n      <td>0.550000</td>\n      <td>1.584167</td>\n      <td>1.816667</td>\n      <td>1.150000</td>\n      <td>5.833333</td>\n    </tr>\n  </tbody>\n</table>\n</div>"
          },
          "metadata": {}
        }
      ]
    },
    {
      "cell_type": "code",
      "source": [
        "#Train and Test Data Split\n",
        "from sklearn.model_selection import train_test_split\n",
        "X_train, X_test, Y_train, Y_test = train_test_split(X, Y, test_size=0.2, stratify=Y, random_state=42)"
      ],
      "metadata": {
        "execution": {
          "iopub.status.busy": "2024-07-19T14:50:09.584949Z",
          "iopub.execute_input": "2024-07-19T14:50:09.585345Z",
          "iopub.status.idle": "2024-07-19T14:50:09.597037Z",
          "shell.execute_reply.started": "2024-07-19T14:50:09.585311Z",
          "shell.execute_reply": "2024-07-19T14:50:09.595798Z"
        },
        "trusted": true,
        "id": "h1Loj-iLeYv7"
      },
      "execution_count": null,
      "outputs": []
    },
    {
      "cell_type": "code",
      "source": [
        "print(Y.shape, Y_train.shape, Y_test.shape)"
      ],
      "metadata": {
        "execution": {
          "iopub.status.busy": "2024-07-19T14:50:09.598703Z",
          "iopub.execute_input": "2024-07-19T14:50:09.59955Z",
          "iopub.status.idle": "2024-07-19T14:50:09.60734Z",
          "shell.execute_reply.started": "2024-07-19T14:50:09.599502Z",
          "shell.execute_reply": "2024-07-19T14:50:09.606029Z"
        },
        "trusted": true,
        "id": "_jSYVvRceYv7",
        "outputId": "c5911244-e34b-45b7-9af1-6e2a13d4f38f"
      },
      "execution_count": null,
      "outputs": [
        {
          "name": "stdout",
          "text": "(270,) (216,) (54,)\n",
          "output_type": "stream"
        }
      ]
    },
    {
      "cell_type": "code",
      "source": [
        "print(X_train.mean(), X_test.mean(), X.mean())"
      ],
      "metadata": {
        "execution": {
          "iopub.status.busy": "2024-07-19T14:50:09.6086Z",
          "iopub.execute_input": "2024-07-19T14:50:09.608963Z",
          "iopub.status.idle": "2024-07-19T14:50:09.624195Z",
          "shell.execute_reply.started": "2024-07-19T14:50:09.608926Z",
          "shell.execute_reply": "2024-07-19T14:50:09.622941Z"
        },
        "trusted": true,
        "id": "M70ARxY9eYv7",
        "outputId": "8ed46043-56f1-4de4-87f4-5fdd8584db4c"
      },
      "execution_count": null,
      "outputs": [
        {
          "name": "stdout",
          "text": "Age                         54.361111\nSex                          0.685185\nChest pain type              3.101852\nBP                         131.074074\nCholesterol                248.287037\nFBS over 120                 0.134259\nEKG results                  1.050926\nMax HR                     150.555556\nExercise angina              0.319444\nST depression                1.044907\nSlope of ST                  1.578704\nNumber of vessels fluro      0.662037\nThallium                     4.652778\ndtype: float64 Age                         54.722222\nSex                          0.648148\nChest pain type              3.462963\nBP                         132.425926\nCholesterol                255.148148\nFBS over 120                 0.203704\nEKG results                  0.907407\nMax HR                     146.166667\nExercise angina              0.370370\nST depression                1.070370\nSlope of ST                  1.611111\nNumber of vessels fluro      0.703704\nThallium                     4.870370\ndtype: float64 Age                         54.433333\nSex                          0.677778\nChest pain type              3.174074\nBP                         131.344444\nCholesterol                249.659259\nFBS over 120                 0.148148\nEKG results                  1.022222\nMax HR                     149.677778\nExercise angina              0.329630\nST depression                1.050000\nSlope of ST                  1.585185\nNumber of vessels fluro      0.670370\nThallium                     4.696296\ndtype: float64\n",
          "output_type": "stream"
        }
      ]
    },
    {
      "cell_type": "code",
      "source": [
        "#Decision Tree\n",
        "from sklearn.tree import DecisionTreeClassifier"
      ],
      "metadata": {
        "execution": {
          "iopub.status.busy": "2024-07-19T14:50:09.625744Z",
          "iopub.execute_input": "2024-07-19T14:50:09.626148Z",
          "iopub.status.idle": "2024-07-19T14:50:09.634024Z",
          "shell.execute_reply.started": "2024-07-19T14:50:09.626117Z",
          "shell.execute_reply": "2024-07-19T14:50:09.632757Z"
        },
        "trusted": true,
        "id": "3iRKuETseYv7"
      },
      "execution_count": null,
      "outputs": []
    },
    {
      "cell_type": "code",
      "source": [
        "# Initialize the model\n",
        "model = DecisionTreeClassifier(random_state=42)"
      ],
      "metadata": {
        "execution": {
          "iopub.status.busy": "2024-07-19T14:50:09.635737Z",
          "iopub.execute_input": "2024-07-19T14:50:09.636195Z",
          "iopub.status.idle": "2024-07-19T14:50:09.644796Z",
          "shell.execute_reply.started": "2024-07-19T14:50:09.636155Z",
          "shell.execute_reply": "2024-07-19T14:50:09.643563Z"
        },
        "trusted": true,
        "id": "cNVjvxzEeYv7"
      },
      "execution_count": null,
      "outputs": []
    },
    {
      "cell_type": "code",
      "source": [
        "# Train the model\n",
        "model.fit(X_train, Y_train)"
      ],
      "metadata": {
        "execution": {
          "iopub.status.busy": "2024-07-19T14:50:09.646241Z",
          "iopub.execute_input": "2024-07-19T14:50:09.64668Z",
          "iopub.status.idle": "2024-07-19T14:50:09.668875Z",
          "shell.execute_reply.started": "2024-07-19T14:50:09.646639Z",
          "shell.execute_reply": "2024-07-19T14:50:09.667852Z"
        },
        "trusted": true,
        "id": "0khBnWpzeYv7",
        "outputId": "4703bb71-03d1-4f78-f169-f443a4932842"
      },
      "execution_count": null,
      "outputs": [
        {
          "execution_count": 18,
          "output_type": "execute_result",
          "data": {
            "text/plain": "DecisionTreeClassifier(random_state=42)",
            "text/html": "<style>#sk-container-id-1 {color: black;background-color: white;}#sk-container-id-1 pre{padding: 0;}#sk-container-id-1 div.sk-toggleable {background-color: white;}#sk-container-id-1 label.sk-toggleable__label {cursor: pointer;display: block;width: 100%;margin-bottom: 0;padding: 0.3em;box-sizing: border-box;text-align: center;}#sk-container-id-1 label.sk-toggleable__label-arrow:before {content: \"▸\";float: left;margin-right: 0.25em;color: #696969;}#sk-container-id-1 label.sk-toggleable__label-arrow:hover:before {color: black;}#sk-container-id-1 div.sk-estimator:hover label.sk-toggleable__label-arrow:before {color: black;}#sk-container-id-1 div.sk-toggleable__content {max-height: 0;max-width: 0;overflow: hidden;text-align: left;background-color: #f0f8ff;}#sk-container-id-1 div.sk-toggleable__content pre {margin: 0.2em;color: black;border-radius: 0.25em;background-color: #f0f8ff;}#sk-container-id-1 input.sk-toggleable__control:checked~div.sk-toggleable__content {max-height: 200px;max-width: 100%;overflow: auto;}#sk-container-id-1 input.sk-toggleable__control:checked~label.sk-toggleable__label-arrow:before {content: \"▾\";}#sk-container-id-1 div.sk-estimator input.sk-toggleable__control:checked~label.sk-toggleable__label {background-color: #d4ebff;}#sk-container-id-1 div.sk-label input.sk-toggleable__control:checked~label.sk-toggleable__label {background-color: #d4ebff;}#sk-container-id-1 input.sk-hidden--visually {border: 0;clip: rect(1px 1px 1px 1px);clip: rect(1px, 1px, 1px, 1px);height: 1px;margin: -1px;overflow: hidden;padding: 0;position: absolute;width: 1px;}#sk-container-id-1 div.sk-estimator {font-family: monospace;background-color: #f0f8ff;border: 1px dotted black;border-radius: 0.25em;box-sizing: border-box;margin-bottom: 0.5em;}#sk-container-id-1 div.sk-estimator:hover {background-color: #d4ebff;}#sk-container-id-1 div.sk-parallel-item::after {content: \"\";width: 100%;border-bottom: 1px solid gray;flex-grow: 1;}#sk-container-id-1 div.sk-label:hover label.sk-toggleable__label {background-color: #d4ebff;}#sk-container-id-1 div.sk-serial::before {content: \"\";position: absolute;border-left: 1px solid gray;box-sizing: border-box;top: 0;bottom: 0;left: 50%;z-index: 0;}#sk-container-id-1 div.sk-serial {display: flex;flex-direction: column;align-items: center;background-color: white;padding-right: 0.2em;padding-left: 0.2em;position: relative;}#sk-container-id-1 div.sk-item {position: relative;z-index: 1;}#sk-container-id-1 div.sk-parallel {display: flex;align-items: stretch;justify-content: center;background-color: white;position: relative;}#sk-container-id-1 div.sk-item::before, #sk-container-id-1 div.sk-parallel-item::before {content: \"\";position: absolute;border-left: 1px solid gray;box-sizing: border-box;top: 0;bottom: 0;left: 50%;z-index: -1;}#sk-container-id-1 div.sk-parallel-item {display: flex;flex-direction: column;z-index: 1;position: relative;background-color: white;}#sk-container-id-1 div.sk-parallel-item:first-child::after {align-self: flex-end;width: 50%;}#sk-container-id-1 div.sk-parallel-item:last-child::after {align-self: flex-start;width: 50%;}#sk-container-id-1 div.sk-parallel-item:only-child::after {width: 0;}#sk-container-id-1 div.sk-dashed-wrapped {border: 1px dashed gray;margin: 0 0.4em 0.5em 0.4em;box-sizing: border-box;padding-bottom: 0.4em;background-color: white;}#sk-container-id-1 div.sk-label label {font-family: monospace;font-weight: bold;display: inline-block;line-height: 1.2em;}#sk-container-id-1 div.sk-label-container {text-align: center;}#sk-container-id-1 div.sk-container {/* jupyter's `normalize.less` sets `[hidden] { display: none; }` but bootstrap.min.css set `[hidden] { display: none !important; }` so we also need the `!important` here to be able to override the default hidden behavior on the sphinx rendered scikit-learn.org. See: https://github.com/scikit-learn/scikit-learn/issues/21755 */display: inline-block !important;position: relative;}#sk-container-id-1 div.sk-text-repr-fallback {display: none;}</style><div id=\"sk-container-id-1\" class=\"sk-top-container\"><div class=\"sk-text-repr-fallback\"><pre>DecisionTreeClassifier(random_state=42)</pre><b>In a Jupyter environment, please rerun this cell to show the HTML representation or trust the notebook. <br />On GitHub, the HTML representation is unable to render, please try loading this page with nbviewer.org.</b></div><div class=\"sk-container\" hidden><div class=\"sk-item\"><div class=\"sk-estimator sk-toggleable\"><input class=\"sk-toggleable__control sk-hidden--visually\" id=\"sk-estimator-id-1\" type=\"checkbox\" checked><label for=\"sk-estimator-id-1\" class=\"sk-toggleable__label sk-toggleable__label-arrow\">DecisionTreeClassifier</label><div class=\"sk-toggleable__content\"><pre>DecisionTreeClassifier(random_state=42)</pre></div></div></div></div></div>"
          },
          "metadata": {}
        }
      ]
    },
    {
      "cell_type": "code",
      "source": [
        "# Predictions\n",
        "prediction = model.predict(X_test)"
      ],
      "metadata": {
        "execution": {
          "iopub.status.busy": "2024-07-19T14:50:09.670297Z",
          "iopub.execute_input": "2024-07-19T14:50:09.670635Z",
          "iopub.status.idle": "2024-07-19T14:50:09.677685Z",
          "shell.execute_reply.started": "2024-07-19T14:50:09.670608Z",
          "shell.execute_reply": "2024-07-19T14:50:09.676485Z"
        },
        "trusted": true,
        "id": "erRjxGSKeYv7"
      },
      "execution_count": null,
      "outputs": []
    },
    {
      "cell_type": "code",
      "source": [
        "# Accuracy\n",
        "from sklearn.metrics import accuracy_score\n",
        "accuracy = accuracy_score(Y_test, prediction)\n",
        "print(f'Accuracy: {accuracy}')"
      ],
      "metadata": {
        "execution": {
          "iopub.status.busy": "2024-07-19T14:50:09.679278Z",
          "iopub.execute_input": "2024-07-19T14:50:09.6797Z",
          "iopub.status.idle": "2024-07-19T14:50:09.691331Z",
          "shell.execute_reply.started": "2024-07-19T14:50:09.679661Z",
          "shell.execute_reply": "2024-07-19T14:50:09.689918Z"
        },
        "trusted": true,
        "id": "I7GeD8CoeYv8",
        "outputId": "599fb61c-4038-4564-a00e-41fd69a659e4"
      },
      "execution_count": null,
      "outputs": [
        {
          "name": "stdout",
          "text": "Accuracy: 0.7962962962962963\n",
          "output_type": "stream"
        }
      ]
    },
    {
      "cell_type": "code",
      "source": [
        "#Random Forest\n",
        "from sklearn.ensemble import RandomForestClassifier"
      ],
      "metadata": {
        "execution": {
          "iopub.status.busy": "2024-07-19T14:50:09.692909Z",
          "iopub.execute_input": "2024-07-19T14:50:09.693428Z",
          "iopub.status.idle": "2024-07-19T14:50:09.70058Z",
          "shell.execute_reply.started": "2024-07-19T14:50:09.693376Z",
          "shell.execute_reply": "2024-07-19T14:50:09.69927Z"
        },
        "trusted": true,
        "id": "jv_4MOJceYv8"
      },
      "execution_count": null,
      "outputs": []
    },
    {
      "cell_type": "code",
      "source": [
        "# Initialize the model\n",
        "model = RandomForestClassifier(random_state=42)"
      ],
      "metadata": {
        "execution": {
          "iopub.status.busy": "2024-07-19T14:50:09.70229Z",
          "iopub.execute_input": "2024-07-19T14:50:09.702702Z",
          "iopub.status.idle": "2024-07-19T14:50:09.708867Z",
          "shell.execute_reply.started": "2024-07-19T14:50:09.702664Z",
          "shell.execute_reply": "2024-07-19T14:50:09.70772Z"
        },
        "trusted": true,
        "id": "dZLMZ43CeYv8"
      },
      "execution_count": null,
      "outputs": []
    },
    {
      "cell_type": "code",
      "source": [
        "# Train the model\n",
        "model.fit(X_train, Y_train)"
      ],
      "metadata": {
        "execution": {
          "iopub.status.busy": "2024-07-19T14:50:09.710628Z",
          "iopub.execute_input": "2024-07-19T14:50:09.711019Z",
          "iopub.status.idle": "2024-07-19T14:50:09.927981Z",
          "shell.execute_reply.started": "2024-07-19T14:50:09.710982Z",
          "shell.execute_reply": "2024-07-19T14:50:09.926927Z"
        },
        "trusted": true,
        "id": "rSTHraoJeYv8",
        "outputId": "470b3944-a745-4e12-f395-657411aefcb0"
      },
      "execution_count": null,
      "outputs": [
        {
          "execution_count": 23,
          "output_type": "execute_result",
          "data": {
            "text/plain": "RandomForestClassifier(random_state=42)",
            "text/html": "<style>#sk-container-id-2 {color: black;background-color: white;}#sk-container-id-2 pre{padding: 0;}#sk-container-id-2 div.sk-toggleable {background-color: white;}#sk-container-id-2 label.sk-toggleable__label {cursor: pointer;display: block;width: 100%;margin-bottom: 0;padding: 0.3em;box-sizing: border-box;text-align: center;}#sk-container-id-2 label.sk-toggleable__label-arrow:before {content: \"▸\";float: left;margin-right: 0.25em;color: #696969;}#sk-container-id-2 label.sk-toggleable__label-arrow:hover:before {color: black;}#sk-container-id-2 div.sk-estimator:hover label.sk-toggleable__label-arrow:before {color: black;}#sk-container-id-2 div.sk-toggleable__content {max-height: 0;max-width: 0;overflow: hidden;text-align: left;background-color: #f0f8ff;}#sk-container-id-2 div.sk-toggleable__content pre {margin: 0.2em;color: black;border-radius: 0.25em;background-color: #f0f8ff;}#sk-container-id-2 input.sk-toggleable__control:checked~div.sk-toggleable__content {max-height: 200px;max-width: 100%;overflow: auto;}#sk-container-id-2 input.sk-toggleable__control:checked~label.sk-toggleable__label-arrow:before {content: \"▾\";}#sk-container-id-2 div.sk-estimator input.sk-toggleable__control:checked~label.sk-toggleable__label {background-color: #d4ebff;}#sk-container-id-2 div.sk-label input.sk-toggleable__control:checked~label.sk-toggleable__label {background-color: #d4ebff;}#sk-container-id-2 input.sk-hidden--visually {border: 0;clip: rect(1px 1px 1px 1px);clip: rect(1px, 1px, 1px, 1px);height: 1px;margin: -1px;overflow: hidden;padding: 0;position: absolute;width: 1px;}#sk-container-id-2 div.sk-estimator {font-family: monospace;background-color: #f0f8ff;border: 1px dotted black;border-radius: 0.25em;box-sizing: border-box;margin-bottom: 0.5em;}#sk-container-id-2 div.sk-estimator:hover {background-color: #d4ebff;}#sk-container-id-2 div.sk-parallel-item::after {content: \"\";width: 100%;border-bottom: 1px solid gray;flex-grow: 1;}#sk-container-id-2 div.sk-label:hover label.sk-toggleable__label {background-color: #d4ebff;}#sk-container-id-2 div.sk-serial::before {content: \"\";position: absolute;border-left: 1px solid gray;box-sizing: border-box;top: 0;bottom: 0;left: 50%;z-index: 0;}#sk-container-id-2 div.sk-serial {display: flex;flex-direction: column;align-items: center;background-color: white;padding-right: 0.2em;padding-left: 0.2em;position: relative;}#sk-container-id-2 div.sk-item {position: relative;z-index: 1;}#sk-container-id-2 div.sk-parallel {display: flex;align-items: stretch;justify-content: center;background-color: white;position: relative;}#sk-container-id-2 div.sk-item::before, #sk-container-id-2 div.sk-parallel-item::before {content: \"\";position: absolute;border-left: 1px solid gray;box-sizing: border-box;top: 0;bottom: 0;left: 50%;z-index: -1;}#sk-container-id-2 div.sk-parallel-item {display: flex;flex-direction: column;z-index: 1;position: relative;background-color: white;}#sk-container-id-2 div.sk-parallel-item:first-child::after {align-self: flex-end;width: 50%;}#sk-container-id-2 div.sk-parallel-item:last-child::after {align-self: flex-start;width: 50%;}#sk-container-id-2 div.sk-parallel-item:only-child::after {width: 0;}#sk-container-id-2 div.sk-dashed-wrapped {border: 1px dashed gray;margin: 0 0.4em 0.5em 0.4em;box-sizing: border-box;padding-bottom: 0.4em;background-color: white;}#sk-container-id-2 div.sk-label label {font-family: monospace;font-weight: bold;display: inline-block;line-height: 1.2em;}#sk-container-id-2 div.sk-label-container {text-align: center;}#sk-container-id-2 div.sk-container {/* jupyter's `normalize.less` sets `[hidden] { display: none; }` but bootstrap.min.css set `[hidden] { display: none !important; }` so we also need the `!important` here to be able to override the default hidden behavior on the sphinx rendered scikit-learn.org. See: https://github.com/scikit-learn/scikit-learn/issues/21755 */display: inline-block !important;position: relative;}#sk-container-id-2 div.sk-text-repr-fallback {display: none;}</style><div id=\"sk-container-id-2\" class=\"sk-top-container\"><div class=\"sk-text-repr-fallback\"><pre>RandomForestClassifier(random_state=42)</pre><b>In a Jupyter environment, please rerun this cell to show the HTML representation or trust the notebook. <br />On GitHub, the HTML representation is unable to render, please try loading this page with nbviewer.org.</b></div><div class=\"sk-container\" hidden><div class=\"sk-item\"><div class=\"sk-estimator sk-toggleable\"><input class=\"sk-toggleable__control sk-hidden--visually\" id=\"sk-estimator-id-2\" type=\"checkbox\" checked><label for=\"sk-estimator-id-2\" class=\"sk-toggleable__label sk-toggleable__label-arrow\">RandomForestClassifier</label><div class=\"sk-toggleable__content\"><pre>RandomForestClassifier(random_state=42)</pre></div></div></div></div></div>"
          },
          "metadata": {}
        }
      ]
    },
    {
      "cell_type": "code",
      "source": [
        "# Predictions\n",
        "prediction = model.predict(X_test)"
      ],
      "metadata": {
        "execution": {
          "iopub.status.busy": "2024-07-19T14:50:09.929146Z",
          "iopub.execute_input": "2024-07-19T14:50:09.929506Z",
          "iopub.status.idle": "2024-07-19T14:50:09.945584Z",
          "shell.execute_reply.started": "2024-07-19T14:50:09.929477Z",
          "shell.execute_reply": "2024-07-19T14:50:09.944172Z"
        },
        "trusted": true,
        "id": "0z7J6nQCeYv8"
      },
      "execution_count": null,
      "outputs": []
    },
    {
      "cell_type": "code",
      "source": [
        "# Accuracy\n",
        "accuracy = accuracy_score(Y_test, prediction)\n",
        "print(f'Accuracy: {accuracy}')"
      ],
      "metadata": {
        "execution": {
          "iopub.status.busy": "2024-07-19T14:50:09.946825Z",
          "iopub.execute_input": "2024-07-19T14:50:09.947156Z",
          "iopub.status.idle": "2024-07-19T14:50:09.954992Z",
          "shell.execute_reply.started": "2024-07-19T14:50:09.947128Z",
          "shell.execute_reply": "2024-07-19T14:50:09.953627Z"
        },
        "trusted": true,
        "id": "b578158WeYv8",
        "outputId": "1a86efeb-729b-42e4-d0a6-f07db02c522b"
      },
      "execution_count": null,
      "outputs": [
        {
          "name": "stdout",
          "text": "Accuracy: 0.8148148148148148\n",
          "output_type": "stream"
        }
      ]
    },
    {
      "cell_type": "markdown",
      "source": [
        "Random Forest Classification and Decision Tree Classification both has almost has same accuracy."
      ],
      "metadata": {
        "id": "zAR3l4zFeYv8"
      }
    }
  ]
}